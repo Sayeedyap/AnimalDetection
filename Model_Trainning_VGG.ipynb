{
 "cells": [
  {
   "cell_type": "code",
   "execution_count": 2,
   "metadata": {
    "execution": {
     "iopub.execute_input": "2021-06-26T06:49:03.314816Z",
     "iopub.status.busy": "2021-06-26T06:49:03.314563Z",
     "iopub.status.idle": "2021-06-26T06:49:04.858492Z",
     "shell.execute_reply": "2021-06-26T06:49:04.857971Z",
     "shell.execute_reply.started": "2021-06-26T06:49:03.314755Z"
    }
   },
   "outputs": [],
   "source": [
    "import numpy as np\n",
    "import tensorflow as tf\n",
    "from tensorflow. keras.preprocessing.image import load_img,img_to_array\n",
    "import tensorflow.keras.backend as K\n",
    "from tensorflow. keras.preprocessing.image import ImageDataGenerator\n",
    "import os\n",
    "from tensorflow. keras.models import Sequential,Model,save_model,load_model\n",
    "from tensorflow. keras.layers import Conv2D,Dense,Flatten;\n",
    "from tensorflow. keras.regularizers import l2\n",
    "from tensorflow. keras.optimizers import Adam\n",
    "import matplotlib.pyplot as plt\n",
    "%matplotlib inline\n"
   ]
  },
  {
   "cell_type": "markdown",
   "metadata": {
    "execution": {
     "iopub.execute_input": "2021-06-26T07:42:54.282543Z",
     "iopub.status.busy": "2021-06-26T07:42:54.282323Z",
     "iopub.status.idle": "2021-06-26T07:42:54.285228Z",
     "shell.execute_reply": "2021-06-26T07:42:54.284570Z",
     "shell.execute_reply.started": "2021-06-26T07:42:54.282523Z"
    }
   },
   "source": [
    "#Data Augmentation"
   ]
  },
  {
   "cell_type": "code",
   "execution_count": 3,
   "metadata": {
    "execution": {
     "iopub.execute_input": "2021-06-26T06:49:13.158385Z",
     "iopub.status.busy": "2021-06-26T06:49:13.158165Z",
     "iopub.status.idle": "2021-06-26T06:49:13.368902Z",
     "shell.execute_reply": "2021-06-26T06:49:13.368395Z",
     "shell.execute_reply.started": "2021-06-26T06:49:13.158363Z"
    }
   },
   "outputs": [
    {
     "name": "stdout",
     "output_type": "stream",
     "text": [
      "Found 2021 images belonging to 3 classes.\n",
      "Found 502 images belonging to 3 classes.\n"
     ]
    }
   ],
   "source": [
    "train_datagen = ImageDataGenerator(\n",
    "        rescale=1./255,\n",
    "        shear_range=0.2,\n",
    "        zoom_range=0.5,\n",
    "        horizontal_flip=True)\n",
    "training_set = train_datagen.flow_from_directory('train',\n",
    "                                                 target_size = (224,224),\n",
    "                                                 batch_size =32,\n",
    "                                                 class_mode = 'categorical')\n",
    "test_datagen = ImageDataGenerator(\n",
    "        rescale=1./255,\n",
    "        )\n",
    "testing_set = test_datagen.flow_from_directory('test',\n",
    "                                                 target_size = (224,224),\n",
    "                                                 batch_size =32,\n",
    "                                                 class_mode = 'categorical')"
   ]
  },
  {
   "cell_type": "markdown",
   "metadata": {},
   "source": [
    "#Importing VGG16 model"
   ]
  },
  {
   "cell_type": "code",
   "execution_count": 4,
   "metadata": {
    "execution": {
     "iopub.execute_input": "2021-06-26T06:49:19.844225Z",
     "iopub.status.busy": "2021-06-26T06:49:19.844001Z",
     "iopub.status.idle": "2021-06-26T06:49:21.359477Z",
     "shell.execute_reply": "2021-06-26T06:49:21.358904Z",
     "shell.execute_reply.started": "2021-06-26T06:49:19.844204Z"
    }
   },
   "outputs": [
    {
     "name": "stderr",
     "output_type": "stream",
     "text": [
      "2023-01-31 15:31:24.158075: I tensorflow/core/platform/cpu_feature_guard.cc:193] This TensorFlow binary is optimized with oneAPI Deep Neural Network Library (oneDNN) to use the following CPU instructions in performance-critical operations:  SSE4.1 SSE4.2\n",
      "To enable them in other operations, rebuild TensorFlow with the appropriate compiler flags.\n"
     ]
    }
   ],
   "source": [
    "from tensorflow.keras.applications.vgg16 import VGG16\n",
    "model =VGG16(input_shape=(224,224,3),weights='imagenet',include_top=False)"
   ]
  },
  {
   "cell_type": "code",
   "execution_count": 5,
   "metadata": {
    "execution": {
     "iopub.execute_input": "2021-06-26T06:49:24.047927Z",
     "iopub.status.busy": "2021-06-26T06:49:24.047708Z",
     "iopub.status.idle": "2021-06-26T06:49:24.050978Z",
     "shell.execute_reply": "2021-06-26T06:49:24.050487Z",
     "shell.execute_reply.started": "2021-06-26T06:49:24.047907Z"
    }
   },
   "outputs": [],
   "source": [
    "for layer in model.layers:\n",
    "    layer.trainable = False "
   ]
  },
  {
   "cell_type": "markdown",
   "metadata": {},
   "source": [
    "#Adding custom layers"
   ]
  },
  {
   "cell_type": "code",
   "execution_count": 6,
   "metadata": {
    "execution": {
     "iopub.execute_input": "2021-06-26T06:49:25.160454Z",
     "iopub.status.busy": "2021-06-26T06:49:25.160236Z",
     "iopub.status.idle": "2021-06-26T06:49:25.190878Z",
     "shell.execute_reply": "2021-06-26T06:49:25.190380Z",
     "shell.execute_reply.started": "2021-06-26T06:49:25.160432Z"
    }
   },
   "outputs": [],
   "source": [
    "x= Flatten()(model.output);\n",
    "x=Dense(units=1024,activation='relu')(x)\n",
    "x=Dense(units=512,activation='relu')(x)\n",
    "x =Dense(units=3,activation='softmax')(x)\n",
    "final_model=Model(inputs =model.input,outputs=x)"
   ]
  },
  {
   "cell_type": "markdown",
   "metadata": {},
   "source": [
    "#Early Stopping"
   ]
  },
  {
   "cell_type": "code",
   "execution_count": 7,
   "metadata": {
    "execution": {
     "iopub.execute_input": "2021-06-26T06:49:28.422295Z",
     "iopub.status.busy": "2021-06-26T06:49:28.422079Z",
     "iopub.status.idle": "2021-06-26T06:49:28.425232Z",
     "shell.execute_reply": "2021-06-26T06:49:28.424719Z",
     "shell.execute_reply.started": "2021-06-26T06:49:28.422275Z"
    }
   },
   "outputs": [],
   "source": [
    "callback=tf.keras.callbacks.EarlyStopping(\n",
    "    monitor=\"val_loss\",\n",
    "    min_delta=0,\n",
    "    patience=20,\n",
    "    verbose=0,\n",
    "    mode=\"min\",\n",
    "    restore_best_weights=True,\n",
    ")"
   ]
  },
  {
   "cell_type": "markdown",
   "metadata": {
    "execution": {
     "iopub.execute_input": "2021-06-26T07:37:37.023016Z",
     "iopub.status.busy": "2021-06-26T07:37:37.022794Z",
     "iopub.status.idle": "2021-06-26T07:37:37.025555Z",
     "shell.execute_reply": "2021-06-26T07:37:37.025003Z",
     "shell.execute_reply.started": "2021-06-26T07:37:37.022995Z"
    }
   },
   "source": [
    "#Compiling the model"
   ]
  },
  {
   "cell_type": "code",
   "execution_count": 8,
   "metadata": {
    "execution": {
     "iopub.execute_input": "2021-06-26T06:49:32.254691Z",
     "iopub.status.busy": "2021-06-26T06:49:32.254475Z",
     "iopub.status.idle": "2021-06-26T06:49:32.265400Z",
     "shell.execute_reply": "2021-06-26T06:49:32.264903Z",
     "shell.execute_reply.started": "2021-06-26T06:49:32.254671Z"
    }
   },
   "outputs": [],
   "source": [
    "final_model.compile(loss='categorical_crossentropy',optimizer= Adam(1e-5),metrics=['accuracy']) "
   ]
  },
  {
   "cell_type": "markdown",
   "metadata": {},
   "source": [
    "#Training the model"
   ]
  },
  {
   "cell_type": "code",
   "execution_count": 20,
   "metadata": {},
   "outputs": [
    {
     "name": "stdout",
     "output_type": "stream",
     "text": [
      "Epoch 1/10\n",
      "64/64 [==============================] - 472s 7s/step - loss: 0.4905 - accuracy: 0.7996 - val_loss: 0.3919 - val_accuracy: 0.8347\n",
      "Epoch 2/10\n",
      "64/64 [==============================] - 472s 7s/step - loss: 0.4507 - accuracy: 0.8179 - val_loss: 0.4102 - val_accuracy: 0.8207\n",
      "Epoch 3/10\n",
      "64/64 [==============================] - 490s 8s/step - loss: 0.4425 - accuracy: 0.8283 - val_loss: 0.3592 - val_accuracy: 0.8606\n",
      "Epoch 4/10\n",
      "64/64 [==============================] - 472s 7s/step - loss: 0.4148 - accuracy: 0.8431 - val_loss: 0.3594 - val_accuracy: 0.8526\n",
      "Epoch 5/10\n",
      "64/64 [==============================] - 472s 7s/step - loss: 0.3794 - accuracy: 0.8669 - val_loss: 0.3931 - val_accuracy: 0.8386\n",
      "Epoch 6/10\n",
      "64/64 [==============================] - 473s 7s/step - loss: 0.4085 - accuracy: 0.8372 - val_loss: 0.3664 - val_accuracy: 0.8486\n",
      "Epoch 7/10\n",
      "64/64 [==============================] - 473s 7s/step - loss: 0.3822 - accuracy: 0.8560 - val_loss: 0.3369 - val_accuracy: 0.8725\n",
      "Epoch 8/10\n",
      "64/64 [==============================] - 471s 7s/step - loss: 0.3521 - accuracy: 0.8664 - val_loss: 0.3310 - val_accuracy: 0.8606\n",
      "Epoch 9/10\n",
      "64/64 [==============================] - 471s 7s/step - loss: 0.3471 - accuracy: 0.8768 - val_loss: 0.3595 - val_accuracy: 0.8566\n",
      "Epoch 10/10\n",
      "64/64 [==============================] - 474s 7s/step - loss: 0.3295 - accuracy: 0.8837 - val_loss: 0.3168 - val_accuracy: 0.8725\n"
     ]
    }
   ],
   "source": [
    "history=final_model.fit(training_set,validation_data =testing_set,epochs=10,callbacks=[callback])"
   ]
  },
  {
   "cell_type": "code",
   "execution_count": 29,
   "metadata": {
    "execution": {
     "iopub.execute_input": "2021-06-26T06:49:47.238738Z",
     "iopub.status.busy": "2021-06-26T06:49:47.238506Z",
     "iopub.status.idle": "2021-06-26T07:05:01.683777Z",
     "shell.execute_reply": "2021-06-26T07:05:01.683204Z",
     "shell.execute_reply.started": "2021-06-26T06:49:47.238713Z"
    }
   },
   "outputs": [],
   "source": [
    "#with tf.device():\n",
    "#  history=final_model.fit(training_set,validation_data =testing_set,epochs=50,callbacks=[callback])"
   ]
  },
  {
   "cell_type": "code",
   "execution_count": 22,
   "metadata": {
    "execution": {
     "iopub.execute_input": "2021-06-26T07:30:46.523953Z",
     "iopub.status.busy": "2021-06-26T07:30:46.523719Z",
     "iopub.status.idle": "2021-06-26T07:30:46.650661Z",
     "shell.execute_reply": "2021-06-26T07:30:46.650186Z",
     "shell.execute_reply.started": "2021-06-26T07:30:46.523930Z"
    }
   },
   "outputs": [
    {
     "data": {
      "image/png": "[encoded data removed]",
      "text/plain": [
       "<Figure size 640x480 with 1 Axes>"
      ]
     },
     "metadata": {},
     "output_type": "display_data"
    }
   ],
   "source": [
    "plt.plot(history.history['loss'])\n",
    "plt.plot(history.history['val_loss'])\n",
    "plt.title('model loss')\n",
    "plt.ylabel('loss')\n",
    "plt.xlabel('epoch')\n",
    "plt.legend(['train', 'test'], loc='upper left')\n",
    "plt.show()\n"
   ]
  },
  {
   "cell_type": "markdown",
   "metadata": {},
   "source": [
    "#Saving the model"
   ]
  },
  {
   "cell_type": "code",
   "execution_count": 21,
   "metadata": {
    "execution": {
     "iopub.execute_input": "2021-06-26T07:30:52.478525Z",
     "iopub.status.busy": "2021-06-26T07:30:52.478306Z",
     "iopub.status.idle": "2021-06-26T07:30:55.049146Z",
     "shell.execute_reply": "2021-06-26T07:30:55.048593Z",
     "shell.execute_reply.started": "2021-06-26T07:30:52.478504Z"
    }
   },
   "outputs": [],
   "source": [
    "\n",
    "save_model(final_model,'final_model.h5')\n",
    "final_model.save('final_model.h5')"
   ]
  }
 ],
 "metadata": {
  "kernelspec": {
   "display_name": "Python 3 (ipykernel)",
   "language": "python",
   "name": "python3"
  },
  "language_info": {
   "codemirror_mode": {
    "name": "ipython",
    "version": 3
   },
   "file_extension": ".py",
   "mimetype": "text/x-python",
   "name": "python",
   "nbconvert_exporter": "python",
   "pygments_lexer": "ipython3",
   "version": "3.9.16"
  }
 },
 "nbformat": 4,
 "nbformat_minor": 4
}
